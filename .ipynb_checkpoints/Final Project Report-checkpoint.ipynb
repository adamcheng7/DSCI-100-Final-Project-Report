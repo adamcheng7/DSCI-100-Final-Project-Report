{
 "cells": [
  {
   "cell_type": "markdown",
   "id": "9c318848-4cc7-42e0-b645-b8dcfc5141da",
   "metadata": {},
   "source": [
    "# Final Project Report"
   ]
  },
  {
   "cell_type": "markdown",
   "id": "9927f656-062b-40ee-be13-bc2cb14065a5",
   "metadata": {},
   "source": [
    "Praewa"
   ]
  },
  {
   "cell_type": "markdown",
   "id": "22c7662e-7260-40f0-839f-1491259f9339",
   "metadata": {},
   "source": [
    "Renai "
   ]
  },
  {
   "cell_type": "code",
   "execution_count": null,
   "id": "a8c67cff-b75b-4ec0-a772-d3ae171f6dad",
   "metadata": {},
   "outputs": [],
   "source": []
  }
 ],
 "metadata": {
  "kernelspec": {
   "display_name": "R",
   "language": "R",
   "name": "ir"
  },
  "language_info": {
   "codemirror_mode": "r",
   "file_extension": ".r",
   "mimetype": "text/x-r-source",
   "name": "R",
   "pygments_lexer": "r",
   "version": "4.3.3"
  }
 },
 "nbformat": 4,
 "nbformat_minor": 5
}
