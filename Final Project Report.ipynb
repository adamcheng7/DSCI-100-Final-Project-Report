{
 "cells": [
  {
   "cell_type": "markdown",
   "id": "9c318848-4cc7-42e0-b645-b8dcfc5141da",
   "metadata": {},
   "source": [
    "# Final Project Report"
   ]
  },
  {
   "cell_type": "code",
   "execution_count": null,
   "id": "747344a7-161d-40ee-95a2-46b4aa1e3c80",
   "metadata": {},
   "outputs": [],
   "source": []
  }
 ],
 "metadata": {
  "kernelspec": {
   "display_name": "R",
   "language": "R",
   "name": "ir"
  },
  "language_info": {
   "codemirror_mode": "r",
   "file_extension": ".r",
   "mimetype": "text/x-r-source",
   "name": "R",
   "pygments_lexer": "r",
   "version": "4.3.3"
  }
 },
 "nbformat": 4,
 "nbformat_minor": 5
}
